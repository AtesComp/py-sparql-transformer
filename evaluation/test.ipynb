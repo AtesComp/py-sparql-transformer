{
 "cells": [
  {
   "cell_type": "markdown",
   "metadata": {},
   "source": [
    "SPARQL Transformer evaluation\n",
    "=========================\n",
    "\n",
    "This notebook contains some quantitative measures for the evaluation of SPARQL Transformer."
   ]
  },
  {
   "cell_type": "code",
   "execution_count": 1,
   "metadata": {},
   "outputs": [],
   "source": [
    "import json\n",
    "import os\n",
    "import time\n",
    "import numpy as np\n",
    "import pandas as pd\n",
    "\n",
    "import matplotlib.pyplot as plt\n",
    "\n",
    "from ipywidgets import FloatProgress\n",
    "from IPython.display import display\n",
    "\n",
    "from SPARQLWrapper import SPARQLWrapper, JSON\n",
    "from SPARQLTransformer import sparqlTransformer"
   ]
  },
  {
   "cell_type": "code",
   "execution_count": 2,
   "metadata": {},
   "outputs": [],
   "source": [
    "input_folder = './sparql'\n",
    "ENDPOINT = 'http://dbpedia.org/sparql'"
   ]
  },
  {
   "cell_type": "code",
   "execution_count": 3,
   "metadata": {},
   "outputs": [
    {
     "data": {
      "text/plain": [
       "['1.Born_in_Berlin.json',\n",
       " '2.German_musicians.json',\n",
       " '3.Musicians_born_in_Berlin.json',\n",
       " '4.Soccer_players.json',\n",
       " '5.Games.json']"
      ]
     },
     "execution_count": 3,
     "metadata": {},
     "output_type": "execute_result"
    }
   ],
   "source": [
    "json_queries_files = list(filter(lambda x: x.endswith('.json'), os.listdir(input_folder)))\n",
    "json_queries_files.sort()\n",
    "rq_queries_files = [f.replace('.json', '.rq') for f in json_queries_files]\n",
    "\n",
    "json_queries = [json.load(open('%s/%s' % (input_folder, f), 'r')) for f in json_queries_files]\n",
    "rq_queries = [open('%s/%s' % (input_folder, f), 'r').read() for f in rq_queries_files]\n",
    "\n",
    "json_queries_files"
   ]
  },
  {
   "cell_type": "markdown",
   "metadata": {},
   "source": [
    "The test queries have been taken from the __[DBpedia wiki](https://wiki.dbpedia.org/OnlineAccess)__.\n",
    "\n",
    "Those SELECT queries have been manually converted in json query, making sure that the transformed query was equal to the original one (variable names apart).\n",
    "\n",
    "The following table shows, for each query:\n",
    "- `n vars`, how many variable are selected\n",
    "- `levels`, how many levels are present in the json prototype, considered that `1` refers to a flat object (all properties attached to the root) and `2` at one level of nested object\n",
    "- `features` included in the query\n",
    "        \n",
    "| name                     | n vars | levels | features             |\n",
    "|--------------------------|--------|--------|----------------------|\n",
    "|1.Born_in_Berlin          |   4    |   1    | filter, orderby      |\n",
    "|2.German_musicians        |   4    |   1    | lang filter, optional|\n",
    "|3.Musicians_born_in_Berlin|   4    |   1    | lang filter          |\n",
    "|4.Soccer_players          |   5    |   2    | filter, orderby      |\n",
    "|5.Games                   |   2    |   1    | orderby              |"
   ]
  },
  {
   "cell_type": "markdown",
   "metadata": {},
   "source": [
    "Functions for executing the query and returning the bindings.\n",
    "\n",
    "- For JSON queries, we use **SPARQLTransformer**.\n",
    "- For SPARQL queries, we use **SPARQLWrapper** (which is also internally used by SPARQLTransformer)."
   ]
  },
  {
   "cell_type": "code",
   "execution_count": 4,
   "metadata": {},
   "outputs": [],
   "source": [
    "def sparql_exec(query):\n",
    "    sparql = SPARQLWrapper(ENDPOINT)\n",
    "    sparql.setQuery(query)\n",
    "    sparql.setReturnFormat(JSON)\n",
    "    result = sparql.query().convert()\n",
    "    return result[\"results\"][\"bindings\"]\n",
    "\n",
    "def json_exec(query, debug=False):\n",
    "    return sparqlTransformer(query, {'endpoint': ENDPOINT, 'debug': debug})"
   ]
  },
  {
   "cell_type": "markdown",
   "metadata": {},
   "source": [
    "Functions for running the test for a particular query (sparql or json).\n",
    "\n",
    "The test measure the **execution time** of the query (including any parsing task) and the **number of results**."
   ]
  },
  {
   "cell_type": "code",
   "execution_count": 5,
   "metadata": {},
   "outputs": [],
   "source": [
    "def test_atom(query, typ='sparql'):\n",
    "    start = time.time()\n",
    "    if typ == 'sparql':\n",
    "        r = sparql_exec(query)\n",
    "    else:\n",
    "        r = json_exec(query)\n",
    "    \n",
    "    end = time.time()\n",
    "    timing = end - start\n",
    "    \n",
    "    return len(r), timing"
   ]
  },
  {
   "cell_type": "markdown",
   "metadata": {},
   "source": [
    "We will execute the test multiple times for each query, to obtain an average result as much as possible not correlated to the network/server workload.\n",
    "\n",
    "In particular, each test would be executed `num_iteration` times. Each couple of consecutive iteration will be separated by `sleep_time` seconds."
   ]
  },
  {
   "cell_type": "code",
   "execution_count": 6,
   "metadata": {},
   "outputs": [],
   "source": [
    "num_iteration = 100\n",
    "sleep_time = 5"
   ]
  },
  {
   "cell_type": "code",
   "execution_count": 7,
   "metadata": {},
   "outputs": [],
   "source": [
    "def mean_without_outliers(x):\n",
    "    df = pd.DataFrame(x)\n",
    "    Q1 =  df.quantile(0.25)\n",
    "    Q3 = df.quantile(0.75)\n",
    "    IQR = Q3 - Q1\n",
    "\n",
    "    return float(df[(df >= Q1-1.5*IQR ) | (df <= Q3+1.5*IQR)].mean())"
   ]
  },
  {
   "cell_type": "code",
   "execution_count": 8,
   "metadata": {},
   "outputs": [
    {
     "name": "stdout",
     "output_type": "stream",
     "text": [
      "1.Born_in_Berlin\n"
     ]
    },
    {
     "data": {
      "application/vnd.jupyter.widget-view+json": {
       "model_id": "ab4e15f775014caf92c991cafc4d3746",
       "version_major": 2,
       "version_minor": 0
      },
      "text/plain": [
       "FloatProgress(value=0.0, description='SPARQL test:')"
      ]
     },
     "metadata": {},
     "output_type": "display_data"
    },
    {
     "data": {
      "application/vnd.jupyter.widget-view+json": {
       "model_id": "1cd8d14a446743feac978bcafa572eca",
       "version_major": 2,
       "version_minor": 0
      },
      "text/plain": [
       "FloatProgress(value=0.0, description='JSON test:')"
      ]
     },
     "metadata": {},
     "output_type": "display_data"
    },
    {
     "name": "stdout",
     "output_type": "stream",
     "text": [
      "2.German_musicians\n"
     ]
    },
    {
     "data": {
      "application/vnd.jupyter.widget-view+json": {
       "model_id": "c18a057582a64bc28588b5ded09da2a0",
       "version_major": 2,
       "version_minor": 0
      },
      "text/plain": [
       "FloatProgress(value=0.0, description='SPARQL test:')"
      ]
     },
     "metadata": {},
     "output_type": "display_data"
    },
    {
     "data": {
      "application/vnd.jupyter.widget-view+json": {
       "model_id": "f5fa1e93d7764b2e9f3a9004cbf5c89e",
       "version_major": 2,
       "version_minor": 0
      },
      "text/plain": [
       "FloatProgress(value=0.0, description='JSON test:')"
      ]
     },
     "metadata": {},
     "output_type": "display_data"
    },
    {
     "name": "stdout",
     "output_type": "stream",
     "text": [
      "3.Musicians_born_in_Berlin\n"
     ]
    },
    {
     "data": {
      "application/vnd.jupyter.widget-view+json": {
       "model_id": "9bf390f18edd420fadad6e767ab5a44f",
       "version_major": 2,
       "version_minor": 0
      },
      "text/plain": [
       "FloatProgress(value=0.0, description='SPARQL test:')"
      ]
     },
     "metadata": {},
     "output_type": "display_data"
    },
    {
     "data": {
      "application/vnd.jupyter.widget-view+json": {
       "model_id": "56c439e9a6d247fbb817e4712ed5bb4a",
       "version_major": 2,
       "version_minor": 0
      },
      "text/plain": [
       "FloatProgress(value=0.0, description='JSON test:')"
      ]
     },
     "metadata": {},
     "output_type": "display_data"
    },
    {
     "name": "stdout",
     "output_type": "stream",
     "text": [
      "4.Soccer_players\n"
     ]
    },
    {
     "data": {
      "application/vnd.jupyter.widget-view+json": {
       "model_id": "a5c2b12ad79b4e219720a819ae8ccb16",
       "version_major": 2,
       "version_minor": 0
      },
      "text/plain": [
       "FloatProgress(value=0.0, description='SPARQL test:')"
      ]
     },
     "metadata": {},
     "output_type": "display_data"
    },
    {
     "data": {
      "application/vnd.jupyter.widget-view+json": {
       "model_id": "db48605d50914757bc9261a14ee0e8a3",
       "version_major": 2,
       "version_minor": 0
      },
      "text/plain": [
       "FloatProgress(value=0.0, description='JSON test:')"
      ]
     },
     "metadata": {},
     "output_type": "display_data"
    },
    {
     "name": "stdout",
     "output_type": "stream",
     "text": [
      "5.Games\n"
     ]
    },
    {
     "data": {
      "application/vnd.jupyter.widget-view+json": {
       "model_id": "827c4465ed2541e097a99e4c85d317e3",
       "version_major": 2,
       "version_minor": 0
      },
      "text/plain": [
       "FloatProgress(value=0.0, description='SPARQL test:')"
      ]
     },
     "metadata": {},
     "output_type": "display_data"
    },
    {
     "data": {
      "application/vnd.jupyter.widget-view+json": {
       "model_id": "91e6817a735b430e8eb10b3906e27b28",
       "version_major": 2,
       "version_minor": 0
      },
      "text/plain": [
       "FloatProgress(value=0.0, description='JSON test:')"
      ]
     },
     "metadata": {},
     "output_type": "display_data"
    }
   ],
   "source": [
    "test_results = []\n",
    "all_timings = []\n",
    "\n",
    "for i, json_query in enumerate(json_queries):\n",
    "    # queries\n",
    "    json_query = json_queries[i]\n",
    "    rq_query = rq_queries[i]\n",
    "    title = rq_queries_files[i].replace('.rq', '')\n",
    "    print(title)\n",
    "    \n",
    "    # progress bars\n",
    "    fs = FloatProgress(min=0, max=num_iteration, description='SPARQL test:')\n",
    "    display(fs)\n",
    "    fj = FloatProgress(min=0, max=num_iteration, description='JSON test:')\n",
    "    display(fj)\n",
    "\n",
    "    sparql_time = []\n",
    "    sparql_results = 0\n",
    "    json_time = []\n",
    "    json_results = 0\n",
    "    \n",
    "    for j in np.arange(num_iteration):\n",
    "        if (i + j) > 0 :\n",
    "            time.sleep(sleep_time)\n",
    "        sparql_results, t = test_atom(rq_query, typ='sparql')\n",
    "        sparql_time.append(t)\n",
    "        fs.value += 1\n",
    "\n",
    "    for j in np.arange(num_iteration):\n",
    "        time.sleep(sleep_time)\n",
    "        json_results, t = test_atom(json_query, typ='json')\n",
    "        json_time.append(t)\n",
    "        fj.value += 1\n",
    "    \n",
    "    ts = mean_without_outliers(sparql_time) \n",
    "    tj = mean_without_outliers(json_time)\n",
    "    time_diff = (tj - ts)\n",
    "    time_diff_percent = 100 * time_diff / np.mean([ts,tj])\n",
    "    \n",
    "    test_results.append({\n",
    "        'name': title,\n",
    "        'time_sparql': ts, \n",
    "        'result_sparql': sparql_results,\n",
    "        'time_json': tj , \n",
    "        'result_json': json_results,\n",
    "        'time_diff': '{0:.2g}'.format(time_diff),\n",
    "        'time_diff_percent': '{0:.2g}%'.format(time_diff_percent)\n",
    "    });\n",
    "\n",
    "    all_timings.append({\n",
    "        'name': title,\n",
    "        'json': json_time,\n",
    "        'sparql': sparql_time\n",
    "    })"
   ]
  },
  {
   "cell_type": "markdown",
   "metadata": {},
   "source": [
    "Those plots show that over the whole test, some query tooks much longer to be executed. The **outliers** are clearly visible as dots. \n",
    "\n",
    "When computing the mean, we excluded all the outliers, where an outlier stands outside the IQR (see [definition](https://www.purplemath.com/modules/boxwhisk3.htm))."
   ]
  },
  {
   "cell_type": "code",
   "execution_count": 9,
   "metadata": {},
   "outputs": [
    {
     "data": {
      "image/png": "[encoded data removed]",
      "text/plain": [
       "<Figure size 1152x288 with 1 Axes>"
      ]
     },
     "metadata": {
      "needs_background": "light"
     },
     "output_type": "display_data"
    },
    {
     "data": {
      "image/png": "[encoded data removed]",
      "text/plain": [
       "<Figure size 1152x288 with 1 Axes>"
      ]
     },
     "metadata": {
      "needs_background": "light"
     },
     "output_type": "display_data"
    },
    {
     "data": {
      "image/png": "[encoded data removed]",
      "text/plain": [
       "<Figure size 1152x288 with 1 Axes>"
      ]
     },
     "metadata": {
      "needs_background": "light"
     },
     "output_type": "display_data"
    },
    {
     "data": {
      "image/png": "[encoded data removed]",
      "text/plain": [
       "<Figure size 1152x288 with 1 Axes>"
      ]
     },
     "metadata": {
      "needs_background": "light"
     },
     "output_type": "display_data"
    },
    {
     "data": {
      "image/png": "[encoded data removed]",
      "text/plain": [
       "<Figure size 1152x288 with 1 Axes>"
      ]
     },
     "metadata": {
      "needs_background": "light"
     },
     "output_type": "display_data"
    }
   ],
   "source": [
    "for i, json_query in enumerate(json_queries):\n",
    "    tim = all_timings[i]\n",
    "    \n",
    "    a = np.array([np.hstack(tim['sparql']), np.hstack(tim['json'])]).transpose()\n",
    "    \n",
    "    df = pd.DataFrame(a, columns=['SPARQL', 'JSON'])\n",
    "    bp = df.boxplot(vert=False, figsize=(16,4))\n",
    "    fig = np.asarray(bp).reshape(-1)[0].get_figure()\n",
    "    fig.suptitle(tim['name'])\n",
    "    plt.show()"
   ]
  },
  {
   "cell_type": "code",
   "execution_count": 10,
   "metadata": {},
   "outputs": [
    {
     "data": {
      "text/html": [
       "<div>\n",
       "<style scoped>\n",
       "    .dataframe tbody tr th:only-of-type {\n",
       "        vertical-align: middle;\n",
       "    }\n",
       "\n",
       "    .dataframe tbody tr th {\n",
       "        vertical-align: top;\n",
       "    }\n",
       "\n",
       "    .dataframe thead th {\n",
       "        text-align: right;\n",
       "    }\n",
       "</style>\n",
       "<table border=\"1\" class=\"dataframe\">\n",
       "  <thead>\n",
       "    <tr style=\"text-align: right;\">\n",
       "      <th></th>\n",
       "      <th>name</th>\n",
       "      <th>result_json</th>\n",
       "      <th>result_sparql</th>\n",
       "      <th>time_diff</th>\n",
       "      <th>time_diff_percent</th>\n",
       "      <th>time_json</th>\n",
       "      <th>time_sparql</th>\n",
       "    </tr>\n",
       "  </thead>\n",
       "  <tbody>\n",
       "    <tr>\n",
       "      <th>0</th>\n",
       "      <td>1.Born_in_Berlin</td>\n",
       "      <td>573</td>\n",
       "      <td>1132</td>\n",
       "      <td>0.11</td>\n",
       "      <td>27%</td>\n",
       "      <td>0.482008</td>\n",
       "      <td>0.367858</td>\n",
       "    </tr>\n",
       "    <tr>\n",
       "      <th>1</th>\n",
       "      <td>2.German_musicians</td>\n",
       "      <td>278</td>\n",
       "      <td>317</td>\n",
       "      <td>0.12</td>\n",
       "      <td>29%</td>\n",
       "      <td>0.452936</td>\n",
       "      <td>0.336836</td>\n",
       "    </tr>\n",
       "    <tr>\n",
       "      <th>2</th>\n",
       "      <td>3.Musicians_born_in_Berlin</td>\n",
       "      <td>154</td>\n",
       "      <td>227</td>\n",
       "      <td>-0.14</td>\n",
       "      <td>-38%</td>\n",
       "      <td>0.293694</td>\n",
       "      <td>0.429502</td>\n",
       "    </tr>\n",
       "    <tr>\n",
       "      <th>3</th>\n",
       "      <td>4.Soccer_players</td>\n",
       "      <td>77</td>\n",
       "      <td>85</td>\n",
       "      <td>0.0052</td>\n",
       "      <td>2.7%</td>\n",
       "      <td>0.197155</td>\n",
       "      <td>0.191992</td>\n",
       "    </tr>\n",
       "    <tr>\n",
       "      <th>4</th>\n",
       "      <td>5.Games</td>\n",
       "      <td>1043</td>\n",
       "      <td>1084</td>\n",
       "      <td>0.071</td>\n",
       "      <td>20%</td>\n",
       "      <td>0.385501</td>\n",
       "      <td>0.314216</td>\n",
       "    </tr>\n",
       "  </tbody>\n",
       "</table>\n",
       "</div>"
      ],
      "text/plain": [
       "                         name  result_json  result_sparql time_diff  \\\n",
       "0            1.Born_in_Berlin          573           1132      0.11   \n",
       "1          2.German_musicians          278            317      0.12   \n",
       "2  3.Musicians_born_in_Berlin          154            227     -0.14   \n",
       "3            4.Soccer_players           77             85    0.0052   \n",
       "4                     5.Games         1043           1084     0.071   \n",
       "\n",
       "  time_diff_percent  time_json  time_sparql  \n",
       "0               27%   0.482008     0.367858  \n",
       "1               29%   0.452936     0.336836  \n",
       "2              -38%   0.293694     0.429502  \n",
       "3              2.7%   0.197155     0.191992  \n",
       "4               20%   0.385501     0.314216  "
      ]
     },
     "execution_count": 10,
     "metadata": {},
     "output_type": "execute_result"
    }
   ],
   "source": [
    "pd.DataFrame.from_dict(test_results)"
   ]
  },
  {
   "cell_type": "markdown",
   "metadata": {},
   "source": [
    "The table give us two different informations.\n",
    "\n",
    "#### Time difference\n",
    "\n",
    "The execution time of JSON queries (`time_json`) is quite close to the one of SPARQL ones (`time_sparql`). The difference in percentage (`time_diff`) never overcomes few hundredths of a second.\n",
    "\n",
    "#### Result difference\n",
    "\n",
    "The number of results (bindings) returned by SPARQL Transformer (`result_json`) is always lower than the ones returned by the endpoint (`result_json`). This is due to the fact that the latter represents all the combination of values as distinct bindings, while the former aggregates the results with the same id."
   ]
  },
  {
   "cell_type": "markdown",
   "metadata": {},
   "source": [
    "### Example of result for `1.Born_in_Berlin`.\n",
    "\n",
    "An interest case is the 2nd result about [Prince Adalbert of Prussia](http://dbpedia.org/resource/Prince_Adalbert_of_Prussia_(1811–1873)), which has 4 names and 2 differently formatted death date. This is represented with 4 * 2 = 8 bindings, then merged with SPARQL Transformer"
   ]
  },
  {
   "cell_type": "code",
   "execution_count": 11,
   "metadata": {},
   "outputs": [
    {
     "data": {
      "text/plain": [
       "[{'birth': {'datatype': 'http://www.w3.org/2001/XMLSchema#date',\n",
       "   'type': 'typed-literal',\n",
       "   'value': '1811-10-29'},\n",
       "  'death': {'datatype': 'http://www.w3.org/2001/XMLSchema#date',\n",
       "   'type': 'typed-literal',\n",
       "   'value': '1873-06-06'},\n",
       "  'name': {'type': 'literal', 'value': '()', 'xml:lang': 'en'},\n",
       "  'person': {'type': 'uri',\n",
       "   'value': 'http://dbpedia.org/resource/Prince_Adalbert_of_Prussia_(1811–1873)'}},\n",
       " {'birth': {'datatype': 'http://www.w3.org/2001/XMLSchema#date',\n",
       "   'type': 'typed-literal',\n",
       "   'value': '1811-10-29'},\n",
       "  'death': {'datatype': 'http://www.w3.org/2001/XMLSchema#date',\n",
       "   'type': 'typed-literal',\n",
       "   'value': '1873-6-6'},\n",
       "  'name': {'type': 'literal', 'value': '()', 'xml:lang': 'en'},\n",
       "  'person': {'type': 'uri',\n",
       "   'value': 'http://dbpedia.org/resource/Prince_Adalbert_of_Prussia_(1811–1873)'}},\n",
       " {'birth': {'datatype': 'http://www.w3.org/2001/XMLSchema#date',\n",
       "   'type': 'typed-literal',\n",
       "   'value': '1811-10-29'},\n",
       "  'death': {'datatype': 'http://www.w3.org/2001/XMLSchema#date',\n",
       "   'type': 'typed-literal',\n",
       "   'value': '1873-06-06'},\n",
       "  'name': {'type': 'literal',\n",
       "   'value': '(Henry William Adalbert)',\n",
       "   'xml:lang': 'en'},\n",
       "  'person': {'type': 'uri',\n",
       "   'value': 'http://dbpedia.org/resource/Prince_Adalbert_of_Prussia_(1811–1873)'}},\n",
       " {'birth': {'datatype': 'http://www.w3.org/2001/XMLSchema#date',\n",
       "   'type': 'typed-literal',\n",
       "   'value': '1811-10-29'},\n",
       "  'death': {'datatype': 'http://www.w3.org/2001/XMLSchema#date',\n",
       "   'type': 'typed-literal',\n",
       "   'value': '1873-6-6'},\n",
       "  'name': {'type': 'literal',\n",
       "   'value': '(Henry William Adalbert)',\n",
       "   'xml:lang': 'en'},\n",
       "  'person': {'type': 'uri',\n",
       "   'value': 'http://dbpedia.org/resource/Prince_Adalbert_of_Prussia_(1811–1873)'}},\n",
       " {'birth': {'datatype': 'http://www.w3.org/2001/XMLSchema#date',\n",
       "   'type': 'typed-literal',\n",
       "   'value': '1776-12-10'},\n",
       "  'death': {'datatype': 'http://www.w3.org/2001/XMLSchema#date',\n",
       "   'type': 'typed-literal',\n",
       "   'value': '1835-11-19'},\n",
       "  'name': {'type': 'literal',\n",
       "   'value': 'Abraham Mendelssohn Bartholdy',\n",
       "   'xml:lang': 'en'},\n",
       "  'person': {'type': 'uri',\n",
       "   'value': 'http://dbpedia.org/resource/Abraham_Mendelssohn_Bartholdy'}},\n",
       " {'birth': {'datatype': 'http://www.w3.org/2001/XMLSchema#date',\n",
       "   'type': 'typed-literal',\n",
       "   'value': '1781-01-26'},\n",
       "  'death': {'datatype': 'http://www.w3.org/2001/XMLSchema#date',\n",
       "   'type': 'typed-literal',\n",
       "   'value': '1831-1-21'},\n",
       "  'name': {'type': 'literal', 'value': 'Achim von Arnim', 'xml:lang': 'en'},\n",
       "  'person': {'type': 'uri',\n",
       "   'value': 'http://dbpedia.org/resource/Ludwig_Achim_von_Arnim'}},\n",
       " {'birth': {'datatype': 'http://www.w3.org/2001/XMLSchema#date',\n",
       "   'type': 'typed-literal',\n",
       "   'value': '1811-10-29'},\n",
       "  'death': {'datatype': 'http://www.w3.org/2001/XMLSchema#date',\n",
       "   'type': 'typed-literal',\n",
       "   'value': '1873-06-06'},\n",
       "  'name': {'type': 'literal',\n",
       "   'value': 'Adalbert of Prussia',\n",
       "   'xml:lang': 'en'},\n",
       "  'person': {'type': 'uri',\n",
       "   'value': 'http://dbpedia.org/resource/Prince_Adalbert_of_Prussia_(1811–1873)'}},\n",
       " {'birth': {'datatype': 'http://www.w3.org/2001/XMLSchema#date',\n",
       "   'type': 'typed-literal',\n",
       "   'value': '1811-10-29'},\n",
       "  'death': {'datatype': 'http://www.w3.org/2001/XMLSchema#date',\n",
       "   'type': 'typed-literal',\n",
       "   'value': '1873-6-6'},\n",
       "  'name': {'type': 'literal',\n",
       "   'value': 'Adalbert of Prussia',\n",
       "   'xml:lang': 'en'},\n",
       "  'person': {'type': 'uri',\n",
       "   'value': 'http://dbpedia.org/resource/Prince_Adalbert_of_Prussia_(1811–1873)'}}]"
      ]
     },
     "execution_count": 11,
     "metadata": {},
     "output_type": "execute_result"
    }
   ],
   "source": [
    "# SPARQL query\n",
    "sparql_exec(rq_queries[0])[1:9]"
   ]
  },
  {
   "cell_type": "code",
   "execution_count": 12,
   "metadata": {},
   "outputs": [
    {
     "data": {
      "text/plain": [
       "{'birth': '1811-10-29',\n",
       " 'death': ['1873-06-06', '1873-6-6'],\n",
       " 'id': 'http://dbpedia.org/resource/Prince_Adalbert_of_Prussia_(1811–1873)',\n",
       " 'name': [{'language': 'en', 'value': '()'},\n",
       "  {'language': 'en', 'value': '(Henry William Adalbert)'},\n",
       "  {'language': 'en', 'value': 'Adalbert of Prussia'},\n",
       "  {'language': 'en', 'value': 'Prince Adalbert'}]}"
      ]
     },
     "execution_count": 12,
     "metadata": {},
     "output_type": "execute_result"
    }
   ],
   "source": [
    "# SPARQL query\n",
    "json_exec(json_queries[0])[1]"
   ]
  },
  {
   "cell_type": "code",
   "execution_count": 13,
   "metadata": {},
   "outputs": [
    {
     "data": {
      "text/plain": [
       "[{'name': '1.Born_in_Berlin',\n",
       "  'result_json': 573,\n",
       "  'result_sparql': 1132,\n",
       "  'time_diff': '0.11',\n",
       "  'time_diff_percent': '27%',\n",
       "  'time_json': 0.4820077705383301,\n",
       "  'time_sparql': 0.36785814046859744},\n",
       " {'name': '2.German_musicians',\n",
       "  'result_json': 278,\n",
       "  'result_sparql': 317,\n",
       "  'time_diff': '0.12',\n",
       "  'time_diff_percent': '29%',\n",
       "  'time_json': 0.4529360628128052,\n",
       "  'time_sparql': 0.33683621883392334},\n",
       " {'name': '3.Musicians_born_in_Berlin',\n",
       "  'result_json': 154,\n",
       "  'result_sparql': 227,\n",
       "  'time_diff': '-0.14',\n",
       "  'time_diff_percent': '-38%',\n",
       "  'time_json': 0.29369423151016233,\n",
       "  'time_sparql': 0.4295021629333496},\n",
       " {'name': '4.Soccer_players',\n",
       "  'result_json': 77,\n",
       "  'result_sparql': 85,\n",
       "  'time_diff': '0.0052',\n",
       "  'time_diff_percent': '2.7%',\n",
       "  'time_json': 0.19715528011322023,\n",
       "  'time_sparql': 0.19199219465255737},\n",
       " {'name': '5.Games',\n",
       "  'result_json': 1043,\n",
       "  'result_sparql': 1084,\n",
       "  'time_diff': '0.071',\n",
       "  'time_diff_percent': '20%',\n",
       "  'time_json': 0.3855008029937744,\n",
       "  'time_sparql': 0.314216046333313}]"
      ]
     },
     "execution_count": 13,
     "metadata": {},
     "output_type": "execute_result"
    }
   ],
   "source": [
    "test_results"
   ]
  },
  {
   "cell_type": "code",
   "execution_count": null,
   "metadata": {},
   "outputs": [],
   "source": []
  },
  {
   "cell_type": "code",
   "execution_count": null,
   "metadata": {},
   "outputs": [],
   "source": []
  }
 ],
 "metadata": {
  "kernelspec": {
   "display_name": "Python 3",
   "language": "python",
   "name": "python3"
  },
  "language_info": {
   "codemirror_mode": {
    "name": "ipython",
    "version": 3
   },
   "file_extension": ".py",
   "mimetype": "text/x-python",
   "name": "python",
   "nbconvert_exporter": "python",
   "pygments_lexer": "ipython3",
   "version": "3.7.1"
  }
 },
 "nbformat": 4,
 "nbformat_minor": 1
}
