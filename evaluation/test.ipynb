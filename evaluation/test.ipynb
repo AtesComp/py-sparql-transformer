{
 "cells": [
  {
   "cell_type": "markdown",
   "metadata": {},
   "source": [
    "SPARQL Transformer evaluation\n",
    "=========================\n",
    "\n",
    "This notebook contains some quantitative measures for the evaluation of SPARQL Transformer."
   ]
  },
  {
   "cell_type": "code",
   "execution_count": 1,
   "metadata": {},
   "outputs": [],
   "source": [
    "import json\n",
    "import os\n",
    "import time\n",
    "import numpy as np\n",
    "import pandas as pd\n",
    "\n",
    "import matplotlib.pyplot as plt\n",
    "\n",
    "from ipywidgets import FloatProgress\n",
    "from IPython.display import display\n",
    "\n",
    "from SPARQLWrapper import SPARQLWrapper, JSON\n",
    "from SPARQLTransformer import sparqlTransformer"
   ]
  },
  {
   "cell_type": "code",
   "execution_count": 2,
   "metadata": {},
   "outputs": [],
   "source": [
    "input_folder = './sparql'\n",
    "ENDPOINT = 'http://0.0.0.0:7790/sparql'\n",
    "# ENDPOINT = 'http://dbpedia.org/sparql'"
   ]
  },
  {
   "cell_type": "code",
   "execution_count": 3,
   "metadata": {},
   "outputs": [
    {
     "data": {
      "text/plain": [
       "['1.Born_in_Berlin.json',\n",
       " '2.German_musicians.json',\n",
       " '3.Musicians_born_in_Berlin.json',\n",
       " '4.Soccer_players.json',\n",
       " '5.Games.json']"
      ]
     },
     "execution_count": 3,
     "metadata": {},
     "output_type": "execute_result"
    }
   ],
   "source": [
    "json_queries_files = list(filter(lambda x: x.endswith('.json'), os.listdir(input_folder)))\n",
    "json_queries_files.sort()\n",
    "rq_queries_files = [f.replace('.json', '.rq') for f in json_queries_files]\n",
    "\n",
    "json_queries = [json.load(open('%s/%s' % (input_folder, f), 'r')) for f in json_queries_files]\n",
    "rq_queries = [open('%s/%s' % (input_folder, f), 'r').read() for f in rq_queries_files]\n",
    "\n",
    "json_queries_files"
   ]
  },
  {
   "cell_type": "markdown",
   "metadata": {},
   "source": [
    "The test queries have been taken from the __[DBpedia wiki](https://wiki.dbpedia.org/OnlineAccess)__.\n",
    "\n",
    "Those SELECT queries have been manually converted in json query, making sure that the transformed query was equal to the original one (variable names apart).\n",
    "\n",
    "The following table shows, for each query:\n",
    "- `n vars`, how many variable are selected\n",
    "- `levels`, how many levels are present in the json prototype, considered that `1` refers to a flat object (all properties attached to the root) and `2` at one level of nested object\n",
    "- `features` included in the query\n",
    "        \n",
    "| name                     | n vars | levels | features             |\n",
    "|--------------------------|--------|--------|----------------------|\n",
    "|1.Born_in_Berlin          |   4    |   1    | filter, orderby      |\n",
    "|2.German_musicians        |   4    |   1    | lang filter, optional|\n",
    "|3.Musicians_born_in_Berlin|   4    |   1    | lang filter          |\n",
    "|4.Soccer_players          |   5    |   2    | filter, orderby      |\n",
    "|5.Games                   |   2    |   1    | orderby              |"
   ]
  },
  {
   "cell_type": "markdown",
   "metadata": {},
   "source": [
    "Functions for executing the query and returning the bindings.\n",
    "\n",
    "- For JSON queries, we use **SPARQLTransformer**.\n",
    "- For SPARQL queries, we use **SPARQLWrapper** (which is also internally used by SPARQLTransformer)."
   ]
  },
  {
   "cell_type": "code",
   "execution_count": 4,
   "metadata": {},
   "outputs": [],
   "source": [
    "def sparql_exec(query):\n",
    "    sparql = SPARQLWrapper(ENDPOINT)\n",
    "    sparql.setQuery(query)\n",
    "    sparql.setReturnFormat(JSON)\n",
    "    result = sparql.query().convert()\n",
    "    return result[\"results\"][\"bindings\"]\n",
    "\n",
    "def json_exec(query, debug=False):\n",
    "    return sparqlTransformer(query, {'endpoint': ENDPOINT, 'debug': debug})"
   ]
  },
  {
   "cell_type": "markdown",
   "metadata": {},
   "source": [
    "Functions for running the test for a particular query (sparql or json).\n",
    "\n",
    "The test measure the **execution time** of the query (including any parsing task) and the **number of results**."
   ]
  },
  {
   "cell_type": "code",
   "execution_count": 5,
   "metadata": {},
   "outputs": [],
   "source": [
    "def test_atom(query, typ='sparql'):\n",
    "    start = time.time()\n",
    "    if typ == 'sparql':\n",
    "        r = sparql_exec(query)\n",
    "    else:\n",
    "        r = json_exec(query)\n",
    "    \n",
    "    end = time.time()\n",
    "    timing = end - start\n",
    "    \n",
    "    return len(r), timing"
   ]
  },
  {
   "cell_type": "markdown",
   "metadata": {},
   "source": [
    "We will execute the test multiple times for each query, to obtain an average result as much as possible not correlated to the network/server workload.\n",
    "\n",
    "In particular, each test would be executed `num_iteration` times. Each couple of consecutive iteration will be separated by `sleep_time` seconds."
   ]
  },
  {
   "cell_type": "code",
   "execution_count": 6,
   "metadata": {},
   "outputs": [],
   "source": [
    "num_iteration = 100\n",
    "sleep_time = 5"
   ]
  },
  {
   "cell_type": "code",
   "execution_count": 7,
   "metadata": {},
   "outputs": [],
   "source": [
    "def mean_without_outliers(x):\n",
    "    df = pd.DataFrame(x)\n",
    "    Q1 =  df.quantile(0.25)\n",
    "    Q3 = df.quantile(0.75)\n",
    "    IQR = Q3 - Q1\n",
    "\n",
    "    return float(df[(df >= Q1-1.5*IQR ) | (df <= Q3+1.5*IQR)].mean())"
   ]
  },
  {
   "cell_type": "code",
   "execution_count": 8,
   "metadata": {},
   "outputs": [
    {
     "name": "stdout",
     "output_type": "stream",
     "text": [
      "1.Born_in_Berlin\n"
     ]
    },
    {
     "data": {
      "application/vnd.jupyter.widget-view+json": {
       "model_id": "4e6cec996a8c412f83dfe6c6110c740f",
       "version_major": 2,
       "version_minor": 0
      },
      "text/plain": [
       "FloatProgress(value=0.0, description='SPARQL test:')"
      ]
     },
     "metadata": {},
     "output_type": "display_data"
    },
    {
     "data": {
      "application/vnd.jupyter.widget-view+json": {
       "model_id": "50220bf68e1e47568c5c7f0a0ab630ab",
       "version_major": 2,
       "version_minor": 0
      },
      "text/plain": [
       "FloatProgress(value=0.0, description='JSON test:')"
      ]
     },
     "metadata": {},
     "output_type": "display_data"
    },
    {
     "name": "stdout",
     "output_type": "stream",
     "text": [
      "2.German_musicians\n"
     ]
    },
    {
     "data": {
      "application/vnd.jupyter.widget-view+json": {
       "model_id": "eb02179d1561458e94293bb7f3f72bcc",
       "version_major": 2,
       "version_minor": 0
      },
      "text/plain": [
       "FloatProgress(value=0.0, description='SPARQL test:')"
      ]
     },
     "metadata": {},
     "output_type": "display_data"
    },
    {
     "data": {
      "application/vnd.jupyter.widget-view+json": {
       "model_id": "ad9581e8e4c348238c228116f5ab2f7c",
       "version_major": 2,
       "version_minor": 0
      },
      "text/plain": [
       "FloatProgress(value=0.0, description='JSON test:')"
      ]
     },
     "metadata": {},
     "output_type": "display_data"
    },
    {
     "name": "stdout",
     "output_type": "stream",
     "text": [
      "3.Musicians_born_in_Berlin\n"
     ]
    },
    {
     "data": {
      "application/vnd.jupyter.widget-view+json": {
       "model_id": "b84cd87ebf9647a79848fb1094b79990",
       "version_major": 2,
       "version_minor": 0
      },
      "text/plain": [
       "FloatProgress(value=0.0, description='SPARQL test:')"
      ]
     },
     "metadata": {},
     "output_type": "display_data"
    },
    {
     "data": {
      "application/vnd.jupyter.widget-view+json": {
       "model_id": "ae46397295824ab59c43b8ae45442435",
       "version_major": 2,
       "version_minor": 0
      },
      "text/plain": [
       "FloatProgress(value=0.0, description='JSON test:')"
      ]
     },
     "metadata": {},
     "output_type": "display_data"
    },
    {
     "name": "stdout",
     "output_type": "stream",
     "text": [
      "4.Soccer_players\n"
     ]
    },
    {
     "data": {
      "application/vnd.jupyter.widget-view+json": {
       "model_id": "0b9d41b8a8204a85871f1fae56ea314f",
       "version_major": 2,
       "version_minor": 0
      },
      "text/plain": [
       "FloatProgress(value=0.0, description='SPARQL test:')"
      ]
     },
     "metadata": {},
     "output_type": "display_data"
    },
    {
     "data": {
      "application/vnd.jupyter.widget-view+json": {
       "model_id": "39af0931d43d4e7488d8a6595d6accd1",
       "version_major": 2,
       "version_minor": 0
      },
      "text/plain": [
       "FloatProgress(value=0.0, description='JSON test:')"
      ]
     },
     "metadata": {},
     "output_type": "display_data"
    },
    {
     "name": "stdout",
     "output_type": "stream",
     "text": [
      "5.Games\n"
     ]
    },
    {
     "data": {
      "application/vnd.jupyter.widget-view+json": {
       "model_id": "571a4252dba147cf8a8121e78c3b20a1",
       "version_major": 2,
       "version_minor": 0
      },
      "text/plain": [
       "FloatProgress(value=0.0, description='SPARQL test:')"
      ]
     },
     "metadata": {},
     "output_type": "display_data"
    },
    {
     "data": {
      "application/vnd.jupyter.widget-view+json": {
       "model_id": "c52403cd53124ed981fa26372bc8e01d",
       "version_major": 2,
       "version_minor": 0
      },
      "text/plain": [
       "FloatProgress(value=0.0, description='JSON test:')"
      ]
     },
     "metadata": {},
     "output_type": "display_data"
    }
   ],
   "source": [
    "test_results = []\n",
    "all_timings = []\n",
    "\n",
    "for i, json_query in enumerate(json_queries):\n",
    "    # queries\n",
    "    json_query = json_queries[i]\n",
    "    rq_query = rq_queries[i]\n",
    "    title = rq_queries_files[i].replace('.rq', '')\n",
    "    print(title)\n",
    "    \n",
    "    # progress bars\n",
    "    fs = FloatProgress(min=0, max=num_iteration, description='SPARQL test:')\n",
    "    display(fs)\n",
    "    fj = FloatProgress(min=0, max=num_iteration, description='JSON test:')\n",
    "    display(fj)\n",
    "\n",
    "    sparql_time = []\n",
    "    sparql_results = 0\n",
    "    json_time = []\n",
    "    json_results = 0\n",
    "    \n",
    "    for j in np.arange(num_iteration):\n",
    "        if (i + j) > 0 :\n",
    "            time.sleep(sleep_time)\n",
    "        sparql_results, t = test_atom(rq_query, typ='sparql')\n",
    "        sparql_time.append(t)\n",
    "        fs.value += 1\n",
    "\n",
    "    for j in np.arange(num_iteration):\n",
    "        time.sleep(sleep_time)\n",
    "        json_results, t = test_atom(json_query, typ='json')\n",
    "        json_time.append(t)\n",
    "        fj.value += 1\n",
    "    \n",
    "    ts = np.mean(sparql_time) \n",
    "    tj = np.mean(json_time)\n",
    "    time_diff = (tj - ts)\n",
    "    time_diff_percent = 100 * time_diff / np.mean([ts,tj])\n",
    "    \n",
    "    test_results.append({\n",
    "        'name': title,\n",
    "        'time_sparql': ts, \n",
    "        'result_sparql': sparql_results,\n",
    "        'time_json': tj , \n",
    "        'result_json': json_results,\n",
    "        'time_diff': '{0:.2g}'.format(time_diff),\n",
    "        'time_diff_percent': '{0:.2g}%'.format(time_diff_percent)\n",
    "    });\n",
    "\n",
    "    all_timings.append({\n",
    "        'name': title,\n",
    "        'json': json_time,\n",
    "        'sparql': sparql_time\n",
    "    })"
   ]
  },
  {
   "cell_type": "markdown",
   "metadata": {},
   "source": [
    "Those plots show that over the whole test, some query tooks much longer to be executed. The **outliers** are clearly visible as dots. \n",
    "\n",
    "When computing the mean, we excluded all the outliers, where an outlier stands outside the IQR (see [definition](https://www.purplemath.com/modules/boxwhisk3.htm))."
   ]
  },
  {
   "cell_type": "code",
   "execution_count": 9,
   "metadata": {},
   "outputs": [
    {
     "data": {
      "image/png": "[encoded data removed]",
      "text/plain": [
       "<Figure size 1152x288 with 1 Axes>"
      ]
     },
     "metadata": {
      "needs_background": "light"
     },
     "output_type": "display_data"
    },
    {
     "data": {
      "image/png": "[encoded data removed]",
      "text/plain": [
       "<Figure size 1152x288 with 1 Axes>"
      ]
     },
     "metadata": {
      "needs_background": "light"
     },
     "output_type": "display_data"
    },
    {
     "data": {
      "image/png": "[encoded data removed]",
      "text/plain": [
       "<Figure size 1152x288 with 1 Axes>"
      ]
     },
     "metadata": {
      "needs_background": "light"
     },
     "output_type": "display_data"
    },
    {
     "data": {
      "image/png": "[encoded data removed]",
      "text/plain": [
       "<Figure size 1152x288 with 1 Axes>"
      ]
     },
     "metadata": {
      "needs_background": "light"
     },
     "output_type": "display_data"
    },
    {
     "data": {
      "image/png": "[encoded data removed]",
      "text/plain": [
       "<Figure size 1152x288 with 1 Axes>"
      ]
     },
     "metadata": {
      "needs_background": "light"
     },
     "output_type": "display_data"
    }
   ],
   "source": [
    "for i, json_query in enumerate(json_queries):\n",
    "    tim = all_timings[i]\n",
    "    \n",
    "    a = np.array([np.hstack(tim['sparql']), np.hstack(tim['json'])]).transpose()\n",
    "    \n",
    "    df = pd.DataFrame(a, columns=['SPARQL', 'JSON'])\n",
    "    bp = df.boxplot(vert=False, figsize=(16,4))\n",
    "    fig = np.asarray(bp).reshape(-1)[0].get_figure()\n",
    "    fig.suptitle(tim['name'])\n",
    "    plt.show()"
   ]
  },
  {
   "cell_type": "code",
   "execution_count": 10,
   "metadata": {},
   "outputs": [
    {
     "data": {
      "text/html": [
       "<div>\n",
       "<style scoped>\n",
       "    .dataframe tbody tr th:only-of-type {\n",
       "        vertical-align: middle;\n",
       "    }\n",
       "\n",
       "    .dataframe tbody tr th {\n",
       "        vertical-align: top;\n",
       "    }\n",
       "\n",
       "    .dataframe thead th {\n",
       "        text-align: right;\n",
       "    }\n",
       "</style>\n",
       "<table border=\"1\" class=\"dataframe\">\n",
       "  <thead>\n",
       "    <tr style=\"text-align: right;\">\n",
       "      <th></th>\n",
       "      <th>name</th>\n",
       "      <th>result_json</th>\n",
       "      <th>result_sparql</th>\n",
       "      <th>time_diff</th>\n",
       "      <th>time_diff_percent</th>\n",
       "      <th>time_json</th>\n",
       "      <th>time_sparql</th>\n",
       "    </tr>\n",
       "  </thead>\n",
       "  <tbody>\n",
       "    <tr>\n",
       "      <th>0</th>\n",
       "      <td>1.Born_in_Berlin</td>\n",
       "      <td>573</td>\n",
       "      <td>1132</td>\n",
       "      <td>0.067</td>\n",
       "      <td>50%</td>\n",
       "      <td>0.168399</td>\n",
       "      <td>0.101367</td>\n",
       "    </tr>\n",
       "    <tr>\n",
       "      <th>1</th>\n",
       "      <td>2.German_musicians</td>\n",
       "      <td>257</td>\n",
       "      <td>290</td>\n",
       "      <td>0.012</td>\n",
       "      <td>22%</td>\n",
       "      <td>0.061516</td>\n",
       "      <td>0.049484</td>\n",
       "    </tr>\n",
       "    <tr>\n",
       "      <th>2</th>\n",
       "      <td>3.Musicians_born_in_Berlin</td>\n",
       "      <td>109</td>\n",
       "      <td>172</td>\n",
       "      <td>0.0078</td>\n",
       "      <td>14%</td>\n",
       "      <td>0.059522</td>\n",
       "      <td>0.051678</td>\n",
       "    </tr>\n",
       "    <tr>\n",
       "      <th>3</th>\n",
       "      <td>4.Soccer_players</td>\n",
       "      <td>70</td>\n",
       "      <td>78</td>\n",
       "      <td>0.0076</td>\n",
       "      <td>3.7%</td>\n",
       "      <td>0.210228</td>\n",
       "      <td>0.202638</td>\n",
       "    </tr>\n",
       "    <tr>\n",
       "      <th>4</th>\n",
       "      <td>5.Games</td>\n",
       "      <td>981</td>\n",
       "      <td>1020</td>\n",
       "      <td>0.051</td>\n",
       "      <td>54%</td>\n",
       "      <td>0.120725</td>\n",
       "      <td>0.069565</td>\n",
       "    </tr>\n",
       "  </tbody>\n",
       "</table>\n",
       "</div>"
      ],
      "text/plain": [
       "                         name  result_json  result_sparql time_diff  \\\n",
       "0            1.Born_in_Berlin          573           1132     0.067   \n",
       "1          2.German_musicians          257            290     0.012   \n",
       "2  3.Musicians_born_in_Berlin          109            172    0.0078   \n",
       "3            4.Soccer_players           70             78    0.0076   \n",
       "4                     5.Games          981           1020     0.051   \n",
       "\n",
       "  time_diff_percent  time_json  time_sparql  \n",
       "0               50%   0.168399     0.101367  \n",
       "1               22%   0.061516     0.049484  \n",
       "2               14%   0.059522     0.051678  \n",
       "3              3.7%   0.210228     0.202638  \n",
       "4               54%   0.120725     0.069565  "
      ]
     },
     "execution_count": 10,
     "metadata": {},
     "output_type": "execute_result"
    }
   ],
   "source": [
    "pd.DataFrame.from_dict(test_results)"
   ]
  },
  {
   "cell_type": "markdown",
   "metadata": {},
   "source": [
    "The table give us two different informations.\n",
    "\n",
    "#### Time difference\n",
    "\n",
    "The execution time of JSON queries (`time_json`) is quite close to the one of SPARQL ones (`time_sparql`). The difference in percentage (`time_diff`) never overcomes few hundredths of a second.\n",
    "\n",
    "#### Result difference\n",
    "\n",
    "The number of results (bindings) returned by SPARQL Transformer (`result_json`) is always lower than the ones returned by the endpoint (`result_json`). This is due to the fact that the latter represents all the combination of values as distinct bindings, while the former aggregates the results with the same id."
   ]
  },
  {
   "cell_type": "markdown",
   "metadata": {},
   "source": [
    "### Example of result for `1.Born_in_Berlin`.\n",
    "\n",
    "An interest case is the 2nd result about [Prince Adalbert of Prussia](http://dbpedia.org/resource/Prince_Adalbert_of_Prussia_(1811–1873)), which has 4 names and 2 differently formatted death date. This is represented with 4 * 2 = 8 bindings, then merged with SPARQL Transformer"
   ]
  },
  {
   "cell_type": "code",
   "execution_count": 11,
   "metadata": {},
   "outputs": [
    {
     "data": {
      "text/plain": [
       "[{'name': {'type': 'literal', 'xml:lang': 'en', 'value': '()'},\n",
       "  'birth': {'type': 'typed-literal',\n",
       "   'datatype': 'http://www.w3.org/2001/XMLSchema#date',\n",
       "   'value': '1811-10-29'},\n",
       "  'death': {'type': 'typed-literal',\n",
       "   'datatype': 'http://www.w3.org/2001/XMLSchema#date',\n",
       "   'value': '1873-06-06'},\n",
       "  'person': {'type': 'uri',\n",
       "   'value': 'http://dbpedia.org/resource/Prince_Adalbert_of_Prussia_(1811–1873)'}},\n",
       " {'name': {'type': 'literal', 'xml:lang': 'en', 'value': '()'},\n",
       "  'birth': {'type': 'typed-literal',\n",
       "   'datatype': 'http://www.w3.org/2001/XMLSchema#date',\n",
       "   'value': '1811-10-29'},\n",
       "  'death': {'type': 'typed-literal',\n",
       "   'datatype': 'http://www.w3.org/2001/XMLSchema#date',\n",
       "   'value': '1873-6-6'},\n",
       "  'person': {'type': 'uri',\n",
       "   'value': 'http://dbpedia.org/resource/Prince_Adalbert_of_Prussia_(1811–1873)'}},\n",
       " {'name': {'type': 'literal',\n",
       "   'xml:lang': 'en',\n",
       "   'value': '(Henry William Adalbert)'},\n",
       "  'birth': {'type': 'typed-literal',\n",
       "   'datatype': 'http://www.w3.org/2001/XMLSchema#date',\n",
       "   'value': '1811-10-29'},\n",
       "  'death': {'type': 'typed-literal',\n",
       "   'datatype': 'http://www.w3.org/2001/XMLSchema#date',\n",
       "   'value': '1873-06-06'},\n",
       "  'person': {'type': 'uri',\n",
       "   'value': 'http://dbpedia.org/resource/Prince_Adalbert_of_Prussia_(1811–1873)'}},\n",
       " {'name': {'type': 'literal',\n",
       "   'xml:lang': 'en',\n",
       "   'value': '(Henry William Adalbert)'},\n",
       "  'birth': {'type': 'typed-literal',\n",
       "   'datatype': 'http://www.w3.org/2001/XMLSchema#date',\n",
       "   'value': '1811-10-29'},\n",
       "  'death': {'type': 'typed-literal',\n",
       "   'datatype': 'http://www.w3.org/2001/XMLSchema#date',\n",
       "   'value': '1873-6-6'},\n",
       "  'person': {'type': 'uri',\n",
       "   'value': 'http://dbpedia.org/resource/Prince_Adalbert_of_Prussia_(1811–1873)'}},\n",
       " {'name': {'type': 'literal',\n",
       "   'xml:lang': 'en',\n",
       "   'value': 'Abraham Mendelssohn Bartholdy'},\n",
       "  'birth': {'type': 'typed-literal',\n",
       "   'datatype': 'http://www.w3.org/2001/XMLSchema#date',\n",
       "   'value': '1776-12-10'},\n",
       "  'death': {'type': 'typed-literal',\n",
       "   'datatype': 'http://www.w3.org/2001/XMLSchema#date',\n",
       "   'value': '1835-11-19'},\n",
       "  'person': {'type': 'uri',\n",
       "   'value': 'http://dbpedia.org/resource/Abraham_Mendelssohn_Bartholdy'}},\n",
       " {'name': {'type': 'literal', 'xml:lang': 'en', 'value': 'Achim von Arnim'},\n",
       "  'birth': {'type': 'typed-literal',\n",
       "   'datatype': 'http://www.w3.org/2001/XMLSchema#date',\n",
       "   'value': '1781-01-26'},\n",
       "  'death': {'type': 'typed-literal',\n",
       "   'datatype': 'http://www.w3.org/2001/XMLSchema#date',\n",
       "   'value': '1831-1-21'},\n",
       "  'person': {'type': 'uri',\n",
       "   'value': 'http://dbpedia.org/resource/Ludwig_Achim_von_Arnim'}},\n",
       " {'name': {'type': 'literal',\n",
       "   'xml:lang': 'en',\n",
       "   'value': 'Adalbert of Prussia'},\n",
       "  'birth': {'type': 'typed-literal',\n",
       "   'datatype': 'http://www.w3.org/2001/XMLSchema#date',\n",
       "   'value': '1811-10-29'},\n",
       "  'death': {'type': 'typed-literal',\n",
       "   'datatype': 'http://www.w3.org/2001/XMLSchema#date',\n",
       "   'value': '1873-06-06'},\n",
       "  'person': {'type': 'uri',\n",
       "   'value': 'http://dbpedia.org/resource/Prince_Adalbert_of_Prussia_(1811–1873)'}},\n",
       " {'name': {'type': 'literal',\n",
       "   'xml:lang': 'en',\n",
       "   'value': 'Adalbert of Prussia'},\n",
       "  'birth': {'type': 'typed-literal',\n",
       "   'datatype': 'http://www.w3.org/2001/XMLSchema#date',\n",
       "   'value': '1811-10-29'},\n",
       "  'death': {'type': 'typed-literal',\n",
       "   'datatype': 'http://www.w3.org/2001/XMLSchema#date',\n",
       "   'value': '1873-6-6'},\n",
       "  'person': {'type': 'uri',\n",
       "   'value': 'http://dbpedia.org/resource/Prince_Adalbert_of_Prussia_(1811–1873)'}}]"
      ]
     },
     "execution_count": 11,
     "metadata": {},
     "output_type": "execute_result"
    }
   ],
   "source": [
    "# SPARQL query\n",
    "sparql_exec(rq_queries[0])[1:9]"
   ]
  },
  {
   "cell_type": "code",
   "execution_count": 12,
   "metadata": {},
   "outputs": [
    {
     "data": {
      "text/plain": [
       "{'id': 'http://dbpedia.org/resource/Prince_Adalbert_of_Prussia_(1811–1873)',\n",
       " 'birth': '1811-10-29',\n",
       " 'name': [{'language': 'en', 'value': '()'},\n",
       "  {'language': 'en', 'value': '(Henry William Adalbert)'},\n",
       "  {'language': 'en', 'value': 'Adalbert of Prussia'},\n",
       "  {'language': 'en', 'value': 'Prince Adalbert'}],\n",
       " 'death': ['1873-06-06', '1873-6-6']}"
      ]
     },
     "execution_count": 12,
     "metadata": {},
     "output_type": "execute_result"
    }
   ],
   "source": [
    "# SPARQL query\n",
    "json_exec(json_queries[0])[1]"
   ]
  },
  {
   "cell_type": "code",
   "execution_count": 13,
   "metadata": {},
   "outputs": [
    {
     "data": {
      "text/plain": [
       "[{'name': '1.Born_in_Berlin',\n",
       "  'time_sparql': 0.10136736154556275,\n",
       "  'result_sparql': 1132,\n",
       "  'time_json': 0.168399441242218,\n",
       "  'result_json': 573,\n",
       "  'time_diff': '0.067',\n",
       "  'time_diff_percent': '50%'},\n",
       " {'name': '2.German_musicians',\n",
       "  'time_sparql': 0.04948385715484619,\n",
       "  'result_sparql': 290,\n",
       "  'time_json': 0.0615162444114685,\n",
       "  'result_json': 257,\n",
       "  'time_diff': '0.012',\n",
       "  'time_diff_percent': '22%'},\n",
       " {'name': '3.Musicians_born_in_Berlin',\n",
       "  'time_sparql': 0.05167802810668945,\n",
       "  'result_sparql': 172,\n",
       "  'time_json': 0.05952224969863892,\n",
       "  'result_json': 109,\n",
       "  'time_diff': '0.0078',\n",
       "  'time_diff_percent': '14%'},\n",
       " {'name': '4.Soccer_players',\n",
       "  'time_sparql': 0.20263785123825073,\n",
       "  'result_sparql': 78,\n",
       "  'time_json': 0.21022767543792725,\n",
       "  'result_json': 70,\n",
       "  'time_diff': '0.0076',\n",
       "  'time_diff_percent': '3.7%'},\n",
       " {'name': '5.Games',\n",
       "  'time_sparql': 0.06956501007080078,\n",
       "  'result_sparql': 1020,\n",
       "  'time_json': 0.12072497367858886,\n",
       "  'result_json': 981,\n",
       "  'time_diff': '0.051',\n",
       "  'time_diff_percent': '54%'}]"
      ]
     },
     "execution_count": 13,
     "metadata": {},
     "output_type": "execute_result"
    }
   ],
   "source": [
    "test_results"
   ]
  },
  {
   "cell_type": "code",
   "execution_count": null,
   "metadata": {},
   "outputs": [],
   "source": []
  },
  {
   "cell_type": "code",
   "execution_count": null,
   "metadata": {},
   "outputs": [],
   "source": []
  }
 ],
 "metadata": {
  "kernelspec": {
   "display_name": "Python 3",
   "language": "python",
   "name": "python3"
  },
  "language_info": {
   "codemirror_mode": {
    "name": "ipython",
    "version": 3
   },
   "file_extension": ".py",
   "mimetype": "text/x-python",
   "name": "python",
   "nbconvert_exporter": "python",
   "pygments_lexer": "ipython3",
   "version": "3.7.3rc1"
  }
 },
 "nbformat": 4,
 "nbformat_minor": 1
}
